{
 "cells": [
  {
   "cell_type": "code",
   "execution_count": 2,
   "metadata": {},
   "outputs": [
    {
     "data": {
      "text/latex": [
       "$\\displaystyle \\frac{15 e^{5 y}}{e^{5 y} - 1}$"
      ],
      "text/plain": [
       "15*exp(5*y)/(exp(5*y) - 1)"
      ]
     },
     "execution_count": 2,
     "metadata": {},
     "output_type": "execute_result"
    }
   ],
   "source": [
    "import sympy as sp\n",
    "\n",
    "# Định nghĩa biến\n",
    "k = sp.symbols('k')\n",
    "\n",
    "# Định nghĩa hàm mật độ xác suất\n",
    "f_xy = k * sp.exp(-(2*sp.symbols('x') + 3*sp.symbols('y')))\n",
    "\n",
    "# Tính tích phân để tìm k\n",
    "integral_result = sp.integrate(sp.integrate(f_xy, (sp.symbols('y'), sp.symbols('x'), sp.oo)), (sp.symbols('x'), 0, sp.y))\n",
    "\n",
    "# Giải phương trình để tìm k\n",
    "k_value = sp.solve(integral_result - 1, k)[0]\n",
    "\n",
    "k_value\n"
   ]
  }
 ],
 "metadata": {
  "kernelspec": {
   "display_name": "Python 3",
   "language": "python",
   "name": "python3"
  },
  "language_info": {
   "codemirror_mode": {
    "name": "ipython",
    "version": 3
   },
   "file_extension": ".py",
   "mimetype": "text/x-python",
   "name": "python",
   "nbconvert_exporter": "python",
   "pygments_lexer": "ipython3",
   "version": "3.12.5"
  }
 },
 "nbformat": 4,
 "nbformat_minor": 2
}
